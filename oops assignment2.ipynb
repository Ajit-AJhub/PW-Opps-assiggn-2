{
 "cells": [
  {
   "cell_type": "code",
   "execution_count": null,
   "id": "c9cda4c5-899d-4bd1-9db2-50f100c757fc",
   "metadata": {},
   "outputs": [],
   "source": [
    "Q1. What is Abstraction in OOps? Explain with an example.\n",
    "\n",
    "Ans1- Abstraction in object-oriented programming (OOP) is a concept that allows you to create abstract classes and \n",
    "interfaces to represent general ideas or concepts.\n",
    "It involves hiding the implementation details and exposing only the essential features and behaviors of an object.\n",
    "\n",
    "Abstraction can be achieved using abstract base classes (ABCs) provided by the abc module.\n",
    "An abstract base class is a class that cannot be instantiated and is meant to be subclassed. \n",
    "It can define abstract methods that must be implemented by its subclasses.\n"
   ]
  },
  {
   "cell_type": "code",
   "execution_count": 1,
   "id": "54d34a51-0d78-472d-9a80-f807d962f0ab",
   "metadata": {},
   "outputs": [],
   "source": [
    "from abc import ABC, abstractmethod\n",
    "\n",
    "class Shape(ABC):\n",
    "    @abstractmethod\n",
    "    def calculate_area(self):\n",
    "        pass\n",
    "    \n",
    "    @abstractmethod\n",
    "    def calculate_perimeter(self):\n",
    "        pass\n"
   ]
  },
  {
   "cell_type": "code",
   "execution_count": 11,
   "id": "ad006f68-412e-42de-8916-32e8a3885c3e",
   "metadata": {},
   "outputs": [],
   "source": [
    "class Circle(Shape):\n",
    "    def __init__(self, radius):\n",
    "        self.radius = radius\n",
    "\n",
    "    def calculate_area(self):\n",
    "        return 3.14 * self.radius * self.radius\n",
    "\n",
    "    def calculate_perimeter(self):\n",
    "        return 2 * 3.14 * self.radius\n"
   ]
  },
  {
   "cell_type": "code",
   "execution_count": null,
   "id": "4832cd15-941a-4bb3-98ce-9333aaa55dc5",
   "metadata": {},
   "outputs": [],
   "source": [
    "Q2. Differentiate between Abstraction and Encapsulation. Explain with an example.\n",
    "Ans2- Abstraction and encapsulation are two important concepts in object-oriented programming (OOP) \n",
    "that help in designing and implementing robust and maintainable code. While both concepts are related to hiding complexity, \n",
    "they have distinct purposes.\n",
    "\n",
    "Abstraction:\n",
    "Abstraction is the process of focusing on essential features and hiding unnecessary details to simplify a system's representation.\n",
    "It allows us to create a generalized view of an object by defining its essential characteristics and ignoring the implementation specifics. \n",
    "In other words, abstraction provides a high-level view or interface that hides the inner workings of an object.\n",
    "\n"
   ]
  },
  {
   "cell_type": "code",
   "execution_count": 12,
   "id": "0762b0ed-4d39-415f-a8d6-7af1939c85a3",
   "metadata": {},
   "outputs": [
    {
     "name": "stdout",
     "output_type": "stream",
     "text": [
      "15\n",
      "153.86\n"
     ]
    }
   ],
   "source": [
    "from abc import ABC, abstractmethod\n",
    "\n",
    "class Shape(ABC):\n",
    "    @abstractmethod\n",
    "    def calculate_area(self):\n",
    "        pass\n",
    "\n",
    "class Rectangle(Shape):\n",
    "    def __init__(self, width, height):\n",
    "        self.width = width\n",
    "        self.height = height\n",
    "\n",
    "    def calculate_area(self):\n",
    "        return self.width * self.height\n",
    "\n",
    "class Circle(Shape):\n",
    "    def __init__(self, radius):\n",
    "        self.radius = radius\n",
    "\n",
    "    def calculate_area(self):\n",
    "        return 3.14 * self.radius * self.radius\n",
    "\n",
    "\n",
    "rectangle = Rectangle(5, 3)\n",
    "circle = Circle(7)\n",
    "\n",
    "print(rectangle.calculate_area()) \n",
    "print(circle.calculate_area())    \n"
   ]
  },
  {
   "cell_type": "code",
   "execution_count": null,
   "id": "40a20894-4962-4ed4-a548-7338743bd0c2",
   "metadata": {},
   "outputs": [],
   "source": [
    "Encapsulation:\n",
    "Encapsulation is the practice of bundling data and the methods that operate on that data within a single unit,\n",
    "known as a class. \n",
    "It involves the idea of information hiding, where the internal state and implementation details of an object are hidden from the outside world. \n",
    "Encapsulation \n",
    "helps in achieving data abstraction and protects the data from being accessed directly by other parts of the program.\n"
   ]
  },
  {
   "cell_type": "code",
   "execution_count": 15,
   "id": "0a57ebd3-3684-42b1-bcba-b0ec0a506503",
   "metadata": {},
   "outputs": [
    {
     "name": "stdout",
     "output_type": "stream",
     "text": [
      "1156246225\n",
      "1000\n",
      "1500\n",
      "Insufficient balance.\n"
     ]
    }
   ],
   "source": [
    "class BankAccount:\n",
    "    def __init__(self, account_number, balance):\n",
    "        self.__account_number = account_number\n",
    "        self.__balance = balance\n",
    "\n",
    "    def get_account_number(self):\n",
    "        return self.__account_number\n",
    "\n",
    "    def get_balance(self):\n",
    "        return self.__balance\n",
    "\n",
    "    def deposit(self, amount):\n",
    "        self.__balance += amount\n",
    "\n",
    "    def withdraw(self, amount):\n",
    "        if self.__balance >= amount:\n",
    "            self.__balance -= amount\n",
    "        else:\n",
    "            print(\"Insufficient balance.\")\n",
    "\n",
    "\n",
    "account = BankAccount(\"1156246225\", 1000)\n",
    "\n",
    "print(account.get_account_number())  \n",
    "print(account.get_balance())         \n",
    "\n",
    "account.deposit(500)\n",
    "print(account.get_balance())        \n",
    "\n",
    "account.withdraw(2000)\n"
   ]
  },
  {
   "cell_type": "code",
   "execution_count": null,
   "id": "0e83a600-7fde-4fab-85ed-f9a0ca57f97a",
   "metadata": {},
   "outputs": [],
   "source": [
    "Q3. What is abc module in python? Why is it used?\n",
    "ans-3\n",
    "\n",
    "In Python, there is a module called abc which stands for \"Abstract Base Classes.\" \n",
    "The abc module provides a way to define abstract base classes in Python.\n",
    "\n",
    "An abstract base class (ABC) is a class that cannot be instantiated directly but is meant to be subclassed by other classes. \n",
    "It serves as a blueprint for other classes, defining a common interface or set of methods that the subclasses must implement. \n",
    "The purpose of using abstract base classes is to enforce a certain structure or behavior in the subclasses.\n",
    "\n",
    "Here are a few key points about the abc module and its usage:\n",
    "\n",
    "Defining Abstract Base Classes: The abc module provides a ABC class and a abstractmethod decorator that are used together \n",
    "to define abstract base classes. By inheriting from ABC and using abstractmethod decorators on methods,\n",
    "you can define abstract methods that must be implemented by the subclasses.\n",
    "\n",
    "Enforcing Method Implementation: When a class subclasses an abstract base class, \n",
    "it must provide concrete implementations for all the abstract methods defined in the base class. \n",
    "If a subclass fails to do so, attempting to instantiate it will raise a TypeError.\n",
    "\n",
    "Polymorphism: Abstract base classes enable polymorphism, which means that objects of different classes that inherit \n",
    "from the same abstract base class can be treated interchangeably. This allows for writing more flexible and reusable code.\n",
    "\n",
    "Checking Abstractness: The abc module provides a isinstance() function that allows you to check if \n",
    "an object is an instance of an abstract base class. This can be useful for distinguishing between abstract base classes \n",
    "and their concrete subclasses.\n",
    "\n",
    "Abstract base classes are commonly used in scenarios where you want to define a common interface that multiple related classes should adhere to. \n",
    "By defining abstract methods in the base class, you can ensure that all subclasses provide their own implementations, making your code more modular\n",
    "and maintainable."
   ]
  },
  {
   "cell_type": "code",
   "execution_count": 16,
   "id": "ce1af917-908a-4a29-87ce-9adaec06abd7",
   "metadata": {},
   "outputs": [
    {
     "name": "stdout",
     "output_type": "stream",
     "text": [
      "20\n",
      "18\n"
     ]
    }
   ],
   "source": [
    "from abc import ABC, abstractmethod\n",
    "\n",
    "class Shape(ABC):\n",
    "    @abstractmethod\n",
    "    def area(self):\n",
    "        pass\n",
    "\n",
    "    @abstractmethod\n",
    "    def perimeter(self):\n",
    "        pass\n",
    "\n",
    "class Rectangle(Shape):\n",
    "    def __init__(self, length, width):\n",
    "        self.length = length\n",
    "        self.width = width\n",
    "\n",
    "    def area(self):\n",
    "        return self.length * self.width\n",
    "\n",
    "    def perimeter(self):\n",
    "        return 2 * (self.length + self.width)\n",
    "\n",
    "rectangle = Rectangle(4, 5)\n",
    "print(rectangle.area())     \n",
    "print(rectangle.perimeter()) \n"
   ]
  },
  {
   "cell_type": "code",
   "execution_count": null,
   "id": "35cc8ba1-6846-47ce-8d26-19377eec5e65",
   "metadata": {},
   "outputs": [],
   "source": [
    "Q4. How can we achieve data abstraction?\n",
    "Ans4-Data abstraction is a fundamental concept in computer science and software engineering that allows us to manage \n",
    "complexity by hiding unnecessary details and focusing on the essential aspects of data. \n",
    "It involves creating abstract data types (ADTs) and defining their interfaces, while keeping the implementation details hidden.\n",
    "\n",
    "To achieve data abstraction, we can follow these principles and techniques:\n",
    "\n",
    "Encapsulation: Encapsulation is the process of bundling data and the operations that work on that data into a single unit \n",
    "called an object. Objects encapsulate the data and provide methods or functions to interact with that data. \n",
    "The internal representation and implementation details are hidden from the outside world, promoting data abstraction.\n",
    "\n",
    "Abstract Data Types (ADTs): An ADT is a high-level description of a data structure along with the operations that can be performed on it.\n",
    "It defines what operations are available and their behavior but does not specify the implementation details. ADTs allow we to focus on the \n",
    "essential functionality of the data structure without worrying about how it is implemented.\n",
    "\n",
    "Modularity: Modularity is the practice of dividing a program into smaller, independent modules or components. \n",
    "Each module should have a well-defined interface that hides its internal implementation. By designing modules with clear boundaries and interactions,\n",
    "we can achieve data abstraction and reduce the complexity of the overall system.\n",
    "\n",
    "Information Hiding: Information hiding is a design principle that emphasizes limiting the visibility of implementation details.\n",
    "It involves exposing only the necessary information and hiding the rest. By hiding the internal details, \n",
    "we can prevent direct access to data and ensure that interactions occur only through the defined interfaces.\n",
    "\n",
    "Encapsulation and Access Control: Encapsulation goes hand in hand with access control mechanisms. \n",
    "By defining proper access levels (such as public, private, or protected) for data and methods, we can control \n",
    "how objects interact with each other and restrict direct access to internal data. This helps maintain the integrity and consistency of \n",
    "the data while achieving data abstraction.\n",
    "\n",
    "Class Inheritance and Polymorphism: Inheritance allows you to create specialized classes based on existing classes, \n",
    "promoting code reuse and abstraction. Polymorphism enables objects of different classes to be treated uniformly, \n",
    "allowing for generic programming and increased flexibility."
   ]
  },
  {
   "cell_type": "code",
   "execution_count": null,
   "id": "d1b8c218-83c3-40f5-ae18-e0397b4b1882",
   "metadata": {},
   "outputs": [],
   "source": [
    "Q5. Can we create an instance of an abstract class? Explain your answer.\n",
    "Ans5- \n",
    "No, we cannot create an instance of an abstract class in most programming languages, including those that support object-oriented programming. \n",
    "\n",
    "An abstract class is a class that is declared with the intention of being inherited by other classes. \n",
    "It serves as a blueprint or template for creating more specific classes. \n",
    "Abstract classes cannot be instantiated directly because they often contain incomplete or undefined methods that need\n",
    "to be implemented by the concrete (non-abstract) subclasses.\n",
    "\n",
    "Abstract classes are used to define common attributes and behavior that can be shared among multiple related classes.\n",
    "They provide a way to establish a common interface or contract that the subclasses must adhere to. The abstract class may have both concrete methods\n",
    "(with implementation) and abstract methods (without implementation). \n",
    "\n",
    "To make use of an abstract class, we need to create a subclass that extends the abstract class and provides implementations \n",
    "for all the abstract methods. This subclass can then be instantiated to create objects. By creating instances of the subclass,\n",
    "we indirectly make use of the abstract class's properties and behavior through inheritance.\n",
    "\n",
    "In summary, abstract classes exist solely to be inherited from and cannot be instantiated on their own. \n",
    "They serve as a foundation for creating more specific classes and defining common behavior that subclasses must implement."
   ]
  }
 ],
 "metadata": {
  "kernelspec": {
   "display_name": "Python 3 (ipykernel)",
   "language": "python",
   "name": "python3"
  },
  "language_info": {
   "codemirror_mode": {
    "name": "ipython",
    "version": 3
   },
   "file_extension": ".py",
   "mimetype": "text/x-python",
   "name": "python",
   "nbconvert_exporter": "python",
   "pygments_lexer": "ipython3",
   "version": "3.10.8"
  }
 },
 "nbformat": 4,
 "nbformat_minor": 5
}
